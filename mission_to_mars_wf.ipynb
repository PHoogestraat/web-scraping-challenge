{
 "cells": [
  {
   "cell_type": "markdown",
   "metadata": {},
   "source": [
    "# Misson to Mars\n",
    "\n",
    "* **NASA Mars News**\n",
    "\n",
    "* **JPL Mars Space Images**\n",
    "\n",
    "* **Mars Facts**\n",
    "\n",
    "* **Mars Hemispheres**"
   ]
  },
  {
   "cell_type": "code",
   "execution_count": 48,
   "metadata": {},
   "outputs": [],
   "source": [
    "# Dependencies and Setup\n",
    "from bs4 import BeautifulSoup as bs\n",
    "from splinter import Browser\n",
    "from webdriver_manager.chrome import ChromeDriverManager\n",
    "import pandas as pd\n",
    "import requests\n",
    "import time\n",
    "import pymongo"
   ]
  },
  {
   "cell_type": "code",
   "execution_count": 49,
   "metadata": {},
   "outputs": [
    {
     "name": "stderr",
     "output_type": "stream",
     "text": [
      "[WDM] - Current google-chrome version is 86.0.4240\n",
      "[WDM] - Get LATEST driver version for 86.0.4240\n",
      "[WDM] - Driver [C:\\Users\\phoog\\.wdm\\drivers\\chromedriver\\win32\\86.0.4240.22\\chromedriver.exe] found in cache\n"
     ]
    },
    {
     "name": "stdout",
     "output_type": "stream",
     "text": [
      " \n"
     ]
    }
   ],
   "source": [
    "# Choose the executable path to driver\n",
    "executable_path = {\"executable_path\": ChromeDriverManager().install()}\n",
    "browser = Browser(\"chrome\", **executable_path, headless=False)"
   ]
  },
  {
   "cell_type": "code",
   "execution_count": 50,
   "metadata": {},
   "outputs": [],
   "source": [
    "# Visit Nasa news url through splinter module\n",
    "url_news = \"https://mars.nasa.gov/news/\"\n",
    "browser.visit(url_news)"
   ]
  },
  {
   "cell_type": "code",
   "execution_count": 51,
   "metadata": {},
   "outputs": [
    {
     "data": {
      "text/plain": [
       "'MOXIE Could Help Future Rockets Launch Off Mars'"
      ]
     },
     "execution_count": 51,
     "metadata": {},
     "output_type": "execute_result"
    }
   ],
   "source": [
    "news_titles = soup.find_all(\"div\", class_ = \"content_title\")[1].text\n",
    "news_titles"
   ]
  },
  {
   "cell_type": "code",
   "execution_count": null,
   "metadata": {},
   "outputs": [],
   "source": []
  },
  {
   "cell_type": "code",
   "execution_count": 52,
   "metadata": {},
   "outputs": [
    {
     "name": "stdout",
     "output_type": "stream",
     "text": [
      "MOXIE Could Help Future Rockets Launch Off Mars\n",
      "-----------------------------------------\n",
      "NASA's Perseverance rover carries a device to convert Martian air into oxygen that, if produced on a larger scale, could be used not just for breathing, but also for fuel.\n"
     ]
    }
   ],
   "source": [
    "# HTML Object\n",
    "html_news = browser.html\n",
    "soup = bs(html_news, \"html.parser\")\n",
    "\n",
    "# Scrape the latest News Title and Paragraph Text\n",
    "news_title_cor = soup.find_all(\"div\", class_ = \"content_title\")[1].text\n",
    "news_paragraph = soup.find(\"div\", class_ = \"article_teaser_body\").text\n",
    "\n",
    "# Display scrapped news \n",
    "print(news_title_cor)\n",
    "print(\"-----------------------------------------\")\n",
    "print(news_paragraph)"
   ]
  },
  {
   "cell_type": "code",
   "execution_count": 53,
   "metadata": {},
   "outputs": [
    {
     "name": "stdout",
     "output_type": "stream",
     "text": [
      "NASA's Perseverance rover carries a device to convert Martian air into oxygen that, if produced on a larger scale, could be used not just for breathing, but also for fuel.\n",
      "----------------------------------------------\n",
      "The first to be rigged with microphones, the agency's latest Mars rover picked up the subtle sounds of its own inner workings during interplanetary flight.\n",
      "----------------------------------------------\n",
      "Sensors on NASA's Perseverance will help prepare for future human exploration by taking weather measurements and studying dust particles.\n",
      "----------------------------------------------\n",
      "Scientists using an instrument aboard NASA’s Mars Atmosphere and Volatile EvolutioN, or MAVEN, spacecraft have discovered that water vapor near the surface of the Red Planet is lofted higher into the atmosphere than anyone expected was possible. \n",
      "----------------------------------------------\n",
      "The Mars rover has drilled three samples of rock in this clay-enriched region since arriving in July.\n",
      "----------------------------------------------\n",
      "NASA released an independent review report Tuesday indicating the agency is well positioned for its Mars Sample Return campaign to bring pristine samples from Mars to Earth for scientific study.\n",
      "----------------------------------------------\n",
      "Mark your calendars: The agency's latest rover has only about 8,640,000 seconds to go before it touches down on the Red Planet, becoming history's next Mars car.\n",
      "----------------------------------------------\n",
      "Sometimes half measures can be a good thing – especially on a journey this long. The agency's latest rover only has about 146 million miles left to reach its destination.\n",
      "----------------------------------------------\n",
      "Instruments tailored to collect data during the descent of NASA's next rover through the Red Planet's atmosphere have been checked in flight.\n",
      "----------------------------------------------\n",
      "For hobbyists and makers, 3D printing expands creative possibilities; for specialized engineers, it's also key to next-generation spacecraft design.\n",
      "----------------------------------------------\n",
      "Now that the heat probe is just below the Martian surface, InSight's arm will scoop some additional soil on top to help it keep digging so it can take Mars' temperature.\n",
      "----------------------------------------------\n",
      "The agency's newest rover will use the first ground-penetrating radar instrument on the Martian surface to help search for signs of past microbial life. \n",
      "----------------------------------------------\n",
      "It's the first time machine learning has been used to find previously unknown craters on the Red Planet.\n",
      "----------------------------------------------\n",
      "Perseverance is one of a few Mars spacecraft carrying laser retroreflectors. The devices could provide new science and safer Mars landings in the future.\n",
      "----------------------------------------------\n",
      "PIXL, an instrument on the end of the Perseverance rover's arm, will search for chemical fingerprints left by ancient microbes.\n",
      "----------------------------------------------\n",
      "In honor of Hispanic Heritage Month, Christina Hernandez, an instrument engineer on the Mars 2020 mission, talks about her childhood and journey to NASA.\n",
      "----------------------------------------------\n",
      "Did you know NASA's next Mars rover has a nearly identical sibling on Earth for testing? Even better, it's about to roll for the first time through a replica Martian landscape.\n",
      "----------------------------------------------\n",
      "An electronics issue is suspected to be preventing the sensors from sharing their data about Mars weather with the spacecraft.\n",
      "----------------------------------------------\n",
      "A crisply rendered web application can show you where the agency's Mars 2020 mission is right now as it makes its way to the Red Planet for a Feb. 18, 2021, landing.\n",
      "----------------------------------------------\n",
      "The board will assist with analysis of current plans and goals for one of the most difficult missions humanity has ever undertaken.\n",
      "----------------------------------------------\n",
      "Headed to the Red Planet with the Perseverance rover, the pioneering helicopter is powered up for the first time in interplanetary space as part of a systems check.\n",
      "----------------------------------------------\n",
      "Marking its 15th anniversary since launch, one of the oldest spacecraft at the Red Planet has provided glimpses of dust devils, avalanches, and more.\n",
      "----------------------------------------------\n",
      "Vast areas of the Martian night sky pulse in ultraviolet light, according to images from NASA’s MAVEN spacecraft. The results are being used to illuminate complex circulation patterns in the Martian atmosphere.\n",
      "----------------------------------------------\n",
      "The NASA rover touched down eight years ago, on Aug. 5, 2012, and will soon be joined by a second rover, Perseverance.\n",
      "----------------------------------------------\n",
      "The agency's Mars 2020 mission is on its way. It will land at Jezero Crater in about seven months, on Feb. 18, 2021. \n",
      "----------------------------------------------\n",
      "In a Q&A, spacesuit designer Amy Ross explains how five samples, including a piece of helmet visor, will be tested aboard the rover, which is targeting a July 30 launch. \n",
      "----------------------------------------------\n",
      "With a targeted launch date of July 30, the next robotic scientist NASA is sending to the to the Red Planet has big ambitions.\n",
      "----------------------------------------------\n",
      "There are lots of ways to participate in the historic event, which is targeted for July 30.\n",
      "----------------------------------------------\n",
      "​The agency's Mars 2020 mission has one more big prelaunch review – the Launch Readiness Review, on July 27.\n",
      "----------------------------------------------\n",
      "Starting July 27, news activities will cover everything from mission engineering and science to returning samples from Mars to, of course, the launch itself.\n",
      "----------------------------------------------\n",
      "The first helicopter attempting to fly on another planet is a marvel of engineering. Get up to speed with these key facts about its plans.\n",
      "----------------------------------------------\n",
      "No matter where you live, choose from a menu of activities to join NASA as we \"Countdown to Mars\" and launch the Perseverance rover to the Red Planet.\n",
      "----------------------------------------------\n",
      "Ready for its launch later in the month, the Mars-bound rover will touch terra firma no more.\n",
      "----------------------------------------------\n",
      "NASA's next rover to the Red Planet is slated to launch no earlier than July 30. These highlights will get you up to speed on the ambitious mission.\n",
      "----------------------------------------------\n",
      "Now that the lander's robotic arm has helped the mole get underground, it will resume science activities that have been on hold.\n",
      "----------------------------------------------\n",
      "After more than a year in the \"clay-bearing unit,\" Curiosity is making a mile-long journey around some deep sand so that it can explore higher up Mount Sharp.\n",
      "----------------------------------------------\n",
      "The small craft will seek to prove that powered, controlled flight is possible on another planet. But just getting it onto the surface of Mars will take a whole lot of ingenuity.\n",
      "----------------------------------------------\n",
      "The Red Planet's surface has been visited by eight NASA spacecraft. The ninth will be the first that includes a roundtrip ticket in its flight plan. \n",
      "----------------------------------------------\n",
      "Learn more about the agency's next Red Planet mission during a live event on June 17.\n",
      "----------------------------------------------\n",
      "This new portrait of the Red Planet's neighbors was taken during a time when there's more dust in the air on Mars.\n",
      "----------------------------------------------\n"
     ]
    }
   ],
   "source": [
    "#packages up news articles in a list\n",
    "news_article_list = []\n",
    "\n",
    "news_articles = soup.find_all(\"div\", class_ = \"article_teaser_body\")\n",
    "for news_article in news_articles:\n",
    "    # scrape the article text\n",
    "    article = news_article.text\n",
    "    news_article_list.append(article)\n",
    "    print(article)\n",
    "    print(\"----------------------------------------------\")"
   ]
  },
  {
   "cell_type": "code",
   "execution_count": 27,
   "metadata": {},
   "outputs": [
    {
     "data": {
      "text/plain": [
       "40"
      ]
     },
     "execution_count": 27,
     "metadata": {},
     "output_type": "execute_result"
    }
   ],
   "source": [
    "len(news_article_list)"
   ]
  },
  {
   "cell_type": "code",
   "execution_count": 34,
   "metadata": {},
   "outputs": [
    {
     "name": "stdout",
     "output_type": "stream",
     "text": [
      "MOXIE Could Help Future Rockets Launch Off Mars\n"
     ]
    }
   ],
   "source": [
    "# Extracts first title\n",
    "news_titles = soup.find_all(\"div\", class_ = \"content_title\")[1].text\n",
    "print(news_titles)"
   ]
  },
  {
   "cell_type": "code",
   "execution_count": 11,
   "metadata": {},
   "outputs": [
    {
     "data": {
      "text/plain": [
       "<div class=\"content_title\">Mars Now</div>"
      ]
     },
     "execution_count": 11,
     "metadata": {},
     "output_type": "execute_result"
    }
   ],
   "source": [
    "\n",
    "news_titles = soup.find(\"div\", class_ = \"content_title\")\n",
    "news_titles"
   ]
  },
  {
   "cell_type": "code",
   "execution_count": 21,
   "metadata": {},
   "outputs": [
    {
     "name": "stdout",
     "output_type": "stream",
     "text": [
      "Title Name:Mars Now\n",
      "----------------------------------------------\n",
      "Title Name:MOXIE Could Help Future Rockets Launch Off Mars\n",
      "----------------------------------------------\n",
      "Title Name:Hear Audio From NASA's Perseverance As It Travels Through Deep Space\n",
      "----------------------------------------------\n",
      "Title Name:Mars Is Getting a New Robotic Meteorologist\n",
      "----------------------------------------------\n",
      "Title Name:Heat and Dust Help Launch Martian Water Into Space, Scientists Find\n",
      "----------------------------------------------\n",
      "Title Name:NASA's Curiosity Takes Selfie With 'Mary Anning' on the Red Planet\n",
      "----------------------------------------------\n",
      "Title Name:Independent Review Indicates NASA Prepared for Mars Sample Return Campaign\n",
      "----------------------------------------------\n",
      "Title Name:NASA's Perseverance Rover 100 Days Out\n",
      "----------------------------------------------\n",
      "Title Name:NASA's Perseverance Rover Is Midway to Mars \n",
      "----------------------------------------------\n",
      "Title Name:Sensors on Mars 2020 Spacecraft Answer Long-Distance Call From Earth\n",
      "----------------------------------------------\n",
      "Title Name:NASA's Perseverance Rover Bringing 3D-Printed Metal Parts to Mars\n",
      "----------------------------------------------\n",
      "Title Name:NASA InSight's 'Mole' Is Out of Sight\n",
      "----------------------------------------------\n",
      "Title Name:NASA's Perseverance Rover Will Peer Beneath Mars' Surface \n",
      "----------------------------------------------\n",
      "Title Name:AI Is Helping Scientists Discover Fresh Craters on Mars\n",
      "----------------------------------------------\n",
      "Title Name:NASA's New Mars Rover Is Ready for Space Lasers\n",
      "----------------------------------------------\n",
      "Title Name:NASA's New Mars Rover Will Use X-Rays to Hunt Fossils\n",
      "----------------------------------------------\n",
      "Title Name:My Culture, My Voice\n",
      "----------------------------------------------\n",
      "Title Name:NASA Readies Perseverance Mars Rover's Earthly Twin \n",
      "----------------------------------------------\n",
      "Title Name:NASA Engineers Checking InSight's Weather Sensors\n",
      "----------------------------------------------\n",
      "Title Name:Follow NASA's Perseverance Rover in Real Time on Its Way to Mars\n",
      "----------------------------------------------\n",
      "Title Name:NASA Establishes Board to Initially Review Mars Sample Return Plans\n",
      "----------------------------------------------\n",
      "Title Name:NASA's Ingenuity Mars Helicopter Recharges Its Batteries in Flight\n",
      "----------------------------------------------\n",
      "Title Name:Celebrate Mars Reconnaissance Orbiter's Views From Above\n",
      "----------------------------------------------\n",
      "Title Name:NASA's MAVEN Observes Martian Night Sky Pulsing in Ultraviolet Light\n",
      "----------------------------------------------\n",
      "Title Name:8 Martian Postcards to Celebrate Curiosity's Landing Anniversary\n",
      "----------------------------------------------\n",
      "Title Name:NASA, ULA Launch Mars 2020 Perseverance Rover Mission to Red Planet\n",
      "----------------------------------------------\n",
      "Title Name:NASA's Perseverance Rover Will Carry First Spacesuit Materials to Mars\n",
      "----------------------------------------------\n",
      "Title Name:A New Video Captures the Science of NASA's Perseverance Mars Rover\n",
      "----------------------------------------------\n",
      "Title Name:NASA Invites Public to Share Excitement of Mars 2020 Perseverance Rover Launch\n",
      "----------------------------------------------\n",
      "Title Name:NASA's Mars Perseverance Rover Passes Flight Readiness Review\n",
      "----------------------------------------------\n",
      "Title Name:NASA to Broadcast Mars 2020 Perseverance Launch, Prelaunch Activities\n",
      "----------------------------------------------\n",
      "Title Name:6 Things to Know About NASA's Ingenuity Mars Helicopter\n",
      "----------------------------------------------\n",
      "Title Name:Join NASA for the Launch of the Mars 2020 Perseverance Rover\n",
      "----------------------------------------------\n",
      "Title Name:NASA's Perseverance Rover Attached to Atlas V Rocket\n",
      "----------------------------------------------\n",
      "Title Name:7 Things to Know About the Mars 2020 Perseverance Rover Mission\n",
      "----------------------------------------------\n",
      "Title Name:NASA's InSight Flexes Its Arm While Its 'Mole' Hits Pause\n",
      "----------------------------------------------\n",
      "Title Name:Curiosity Mars Rover's Summer Road Trip Has Begun\n",
      "----------------------------------------------\n",
      "Title Name:How NASA's Mars Helicopter Will Reach the Red Planet's Surface\n",
      "----------------------------------------------\n",
      "Title Name:The Launch Is Approaching for NASA's Next Mars Rover, Perseverance\n",
      "----------------------------------------------\n",
      "Title Name:NASA to Hold Mars 2020 Perseverance Rover Launch Briefing\n",
      "----------------------------------------------\n",
      "Title Name:While Stargazing on Mars, NASA's Curiosity Rover Spots Earth and Venus\n",
      "----------------------------------------------\n",
      "Title Name:\n",
      "\n",
      "Alabama High School Student Names NASA's Mars Helicopter\n",
      "\n",
      "\n",
      "----------------------------------------------\n",
      "Title Name:\n",
      "\n",
      "Mars Helicopter Attached to NASA's Perseverance Rover\n",
      "\n",
      "\n",
      "----------------------------------------------\n",
      "Title Name:\n",
      "\n",
      "NASA's Perseverance Mars Rover Gets Its Wheels and Air Brakes\n",
      "\n",
      "\n",
      "----------------------------------------------\n",
      "Title Name:\n",
      "\n",
      "NASA to Broadcast Mars 2020 Perseverance Launch, Prelaunch Activities\n",
      "\n",
      "\n",
      "----------------------------------------------\n",
      "Title Name:\n",
      "\n",
      "The Launch Is Approaching for NASA's Next Mars Rover, Perseverance\n",
      "\n",
      "\n",
      "----------------------------------------------\n",
      "Title Name:\n",
      "\n",
      "NASA to Hold Mars 2020 Perseverance Rover Launch Briefing\n",
      "\n",
      "\n",
      "----------------------------------------------\n",
      "Title Name:\n",
      "\n",
      "Alabama High School Student Names NASA's Mars Helicopter\n",
      "\n",
      "\n",
      "----------------------------------------------\n",
      "Title Name:\n",
      "\n",
      "Mars Helicopter Attached to NASA's Perseverance Rover\n",
      "\n",
      "\n",
      "----------------------------------------------\n",
      "Title Name:\n",
      "\n",
      "NASA's Perseverance Mars Rover Gets Its Wheels and Air Brakes\n",
      "\n",
      "\n",
      "----------------------------------------------\n",
      "Title Name:\n",
      "\n",
      "NASA to Broadcast Mars 2020 Perseverance Launch, Prelaunch Activities\n",
      "\n",
      "\n",
      "----------------------------------------------\n",
      "Title Name:\n",
      "\n",
      "The Launch Is Approaching for NASA's Next Mars Rover, Perseverance\n",
      "\n",
      "\n",
      "----------------------------------------------\n",
      "Title Name:\n",
      "\n",
      "NASA to Hold Mars 2020 Perseverance Rover Launch Briefing\n",
      "\n",
      "\n",
      "----------------------------------------------\n"
     ]
    }
   ],
   "source": [
    "#extrats all titles\n",
    "title_list = []\n",
    "news_titles = soup.find_all(\"div\", class_ = \"content_title\")\n",
    "for news_title in news_titles:\n",
    "    # scrape the article text\n",
    "    title = news_title.text\n",
    "    title_list.append(title)\n",
    "    print(f\"Title Name:{title}\")\n",
    "    print(\"----------------------------------------------\")\n",
    "    "
   ]
  },
  {
   "cell_type": "code",
   "execution_count": 25,
   "metadata": {},
   "outputs": [
    {
     "name": "stdout",
     "output_type": "stream",
     "text": [
      "Number of titles 53\n",
      "Number of articles 40\n"
     ]
    }
   ],
   "source": [
    "print(f\"Number of titles {len(title_list)}\")\n",
    "print(f\"Number of articles {len(news_article_list)}\")"
   ]
  },
  {
   "cell_type": "code",
   "execution_count": 16,
   "metadata": {},
   "outputs": [],
   "source": [
    "articles = news_article.find(\"div\", class_ = \"article_teaser_body\")\n",
    "articles"
   ]
  },
  {
   "cell_type": "code",
   "execution_count": 17,
   "metadata": {},
   "outputs": [
    {
     "ename": "AttributeError",
     "evalue": "'NoneType' object has no attribute 'text'",
     "output_type": "error",
     "traceback": [
      "\u001b[1;31m---------------------------------------------------------------------------\u001b[0m",
      "\u001b[1;31mAttributeError\u001b[0m                            Traceback (most recent call last)",
      "\u001b[1;32m<ipython-input-17-8dcaf8dd0bb3>\u001b[0m in \u001b[0;36m<module>\u001b[1;34m\u001b[0m\n\u001b[0;32m      1\u001b[0m \u001b[1;32mfor\u001b[0m \u001b[0mnews_article\u001b[0m \u001b[1;32min\u001b[0m \u001b[0mnews_articles\u001b[0m\u001b[1;33m:\u001b[0m\u001b[1;33m\u001b[0m\u001b[1;33m\u001b[0m\u001b[0m\n\u001b[1;32m----> 2\u001b[1;33m     \u001b[0marticle\u001b[0m \u001b[1;33m=\u001b[0m \u001b[0mnews_article\u001b[0m\u001b[1;33m.\u001b[0m\u001b[0mfind\u001b[0m\u001b[1;33m(\u001b[0m\u001b[1;34m\"div\"\u001b[0m\u001b[1;33m,\u001b[0m \u001b[0mclass_\u001b[0m \u001b[1;33m=\u001b[0m \u001b[1;34m\"article_teaser_body\"\u001b[0m\u001b[1;33m)\u001b[0m\u001b[1;33m.\u001b[0m\u001b[0mtext\u001b[0m\u001b[1;33m\u001b[0m\u001b[1;33m\u001b[0m\u001b[0m\n\u001b[0m\u001b[0;32m      3\u001b[0m \u001b[1;33m\u001b[0m\u001b[0m\n\u001b[0;32m      4\u001b[0m     \u001b[0mprint\u001b[0m\u001b[1;33m(\u001b[0m\u001b[0marticle\u001b[0m\u001b[1;33m)\u001b[0m\u001b[1;33m\u001b[0m\u001b[1;33m\u001b[0m\u001b[0m\n",
      "\u001b[1;31mAttributeError\u001b[0m: 'NoneType' object has no attribute 'text'"
     ]
    }
   ],
   "source": [
    "for news_article in news_articles:\n",
    "    article = news_article.find(\"div\", class_ = \"article_teaser_body\").text\n",
    "    \n",
    "    print(article)"
   ]
  },
  {
   "cell_type": "markdown",
   "metadata": {},
   "source": [
    "**NASA Mars News**\n",
    "\n",
    "    * can't extract needed text\n",
    "    * target for text is          -div- class=\"article_teaser_body\"\n",
    "    * parent is                   -div- class=   \"image_and_description_container\""
   ]
  },
  {
   "cell_type": "code",
   "execution_count": null,
   "metadata": {},
   "outputs": [],
   "source": [
    " # URL of page to be scraped\n",
    "url = \"https://mars.nasa.gov/news/\"\n",
    "\n",
    "# Retrieve page with the requests module\n",
    "#response = requests.get(url)\n",
    "# Create BeautifulSoup object; parse with 'html.parser'\n",
    "#soup = bs(response.text, 'html.parser')\n"
   ]
  },
  {
   "cell_type": "code",
   "execution_count": null,
   "metadata": {},
   "outputs": [],
   "source": [
    "#soup.body.find_all('a')"
   ]
  },
  {
   "cell_type": "code",
   "execution_count": null,
   "metadata": {},
   "outputs": [],
   "source": [
    "#soup.body.find_all('p')"
   ]
  },
  {
   "cell_type": "code",
   "execution_count": null,
   "metadata": {},
   "outputs": [],
   "source": [
    "#soup.body.find_all('div')"
   ]
  },
  {
   "cell_type": "code",
   "execution_count": null,
   "metadata": {},
   "outputs": [],
   "source": [
    "#soup.body.find_all('article')"
   ]
  },
  {
   "cell_type": "code",
   "execution_count": null,
   "metadata": {},
   "outputs": [],
   "source": [
    "#print(soup.prettify())"
   ]
  },
  {
   "cell_type": "code",
   "execution_count": null,
   "metadata": {},
   "outputs": [],
   "source": [
    "# Retrieve the parent divs for all articles\n",
    "# I think this is where the informaiton is\n",
    "resultsA = soup.find('div', class_=\"header_mask\")\n",
    "resultsA"
   ]
  },
  {
   "cell_type": "code",
   "execution_count": null,
   "metadata": {},
   "outputs": [],
   "source": [
    "# Retrieve the parent divs for all articles\n",
    "# I think this is where the informaiton is\n",
    "resultsB = soup.find('div', class_='react_grid_list grid_list_container')\n",
    "#resultsB"
   ]
  },
  {
   "cell_type": "code",
   "execution_count": null,
   "metadata": {},
   "outputs": [],
   "source": [
    "# Scrape the latest News Title and Paragraph Text\n",
    "news_title = soup.find(\"article\", class_ = \"content_title\").text\n",
    "#news_paragraph = soup.find(\"div\", class_ = \"article_teaser_body\").text\n",
    "\n",
    "# Display scrapped news \n",
    "print(news_title)\n",
    "print(\"-----------------------------------------\")\n",
    "#print(news_paragraph)"
   ]
  },
  {
   "cell_type": "code",
   "execution_count": null,
   "metadata": {},
   "outputs": [],
   "source": [
    "\n",
    "\n",
    "# Retrieve the parent divs for all articles\n",
    "results = soup.find_all('div', class_='content_title')\n",
    "\n",
    "# loop over results to get article data\n",
    "for result in results:\n",
    "    # scrape the article header\n",
    "    #article_name = result.find('a', class_='content_title').text\n",
    "    \n",
    "    # scrape the article \n",
    "    article = result.find('div', class_='article_teaser_body').text\n",
    "    \n",
    "    # scrape the article subheader\n",
    "    #subheader = result.find('h2', class_='article-item__subheader').text\n",
    "    \n",
    "    # scrape the datetime\n",
    "    #datetime = result.find('span', class_='article-item__date')['data-date'] \n",
    "    \n",
    "    # get only the date from the datetime\n",
    "    #date = datetime.split('T')[0]\n",
    "    \n",
    "    # print article data\n",
    "    print('-----------------')\n",
    "    #print(article_name)\n",
    "    print(article)\n",
    "    #print(date)"
   ]
  },
  {
   "cell_type": "markdown",
   "metadata": {},
   "source": [
    "**JPL Mars Space Images**\n"
   ]
  },
  {
   "cell_type": "code",
   "execution_count": null,
   "metadata": {},
   "outputs": [],
   "source": [
    " browser.quit()"
   ]
  },
  {
   "cell_type": "code",
   "execution_count": null,
   "metadata": {},
   "outputs": [],
   "source": [
    "# opens up target page\n",
    "browser.links.find_by_partial_text(\"Cerberus Hemisphere Enhanced\").click()\n",
    "\n",
    "\n",
    "\n",
    "html = browser.html\n",
    "soup = bs(html, \"html.parser\")\n",
    "prim_hem_target = soup.find(\"a\", text = \"Sample\").get(\"href\")\n",
    "print(prim_hem_target)"
   ]
  },
  {
   "cell_type": "code",
   "execution_count": null,
   "metadata": {},
   "outputs": [],
   "source": [
    "\n",
    "# List to hold dictinary of title names for each url link.\n",
    "hem_list = []\n",
    "\n",
    "# for loop used to extract data from spheres (extracted data from web site)\n",
    "\n",
    "for sph in spheres:    \n",
    "    sp1 = sph.find(\"h3\").text\n",
    "        # this will need to be replaced with diffrent code\n",
    "    \n",
    "    html = browser.html\n",
    "    soup = bs(html, \"html.parser\")\n",
    "    browser.links.find_by_partial_text(sp1).click()\n",
    "\n",
    "    html = browser.html\n",
    "    soup = bs(html, \"html.parser\")\n",
    "    link_ref = soup.find(\"a\", text = \"Sample\").get(\"href\")\n",
    "    \n",
    "    # End of where new code needs to go\n",
    "    \n",
    "    print(f\"TITLE: {sp1}\")\n",
    "    print(f\"                HTML link:    {link_ref}\")\n",
    "   \n",
    "    hem_list.append({\"title:\": sp1, \"img_url\": link_ref})\n",
    "    \n",
    "    browser.visit(hem_url)\n",
    "    \n",
    "    \n",
    "print(\"##########################################\")    \n",
    "print(hem_list)"
   ]
  }
 ],
 "metadata": {
  "kernelspec": {
   "display_name": "Python [conda env:PythonData]",
   "language": "python",
   "name": "conda-env-PythonData-py"
  },
  "language_info": {
   "codemirror_mode": {
    "name": "ipython",
    "version": 3
   },
   "file_extension": ".py",
   "mimetype": "text/x-python",
   "name": "python",
   "nbconvert_exporter": "python",
   "pygments_lexer": "ipython3",
   "version": "3.6.10"
  }
 },
 "nbformat": 4,
 "nbformat_minor": 4
}
